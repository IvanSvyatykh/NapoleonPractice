{
 "cells": [
  {
   "cell_type": "code",
   "execution_count": 1,
   "id": "18e00c88",
   "metadata": {},
   "outputs": [],
   "source": [
    "import pandas as pd\n",
    "\n",
    "import clearml"
   ]
  },
  {
   "cell_type": "code",
   "execution_count": 3,
   "id": "5ffe4f34",
   "metadata": {},
   "outputs": [],
   "source": [
    "task = clearml.Task.get_task(\"9b9a0a7b1d504caab444b37c648a4090\")\n",
    "artifact = task.artifacts[\"predications\"].get()"
   ]
  },
  {
   "cell_type": "code",
   "execution_count": 6,
   "id": "bd89ac21",
   "metadata": {},
   "outputs": [
    {
     "data": {
      "text/html": [
       "<div>\n",
       "<style scoped>\n",
       "    .dataframe tbody tr th:only-of-type {\n",
       "        vertical-align: middle;\n",
       "    }\n",
       "\n",
       "    .dataframe tbody tr th {\n",
       "        vertical-align: top;\n",
       "    }\n",
       "\n",
       "    .dataframe thead th {\n",
       "        text-align: right;\n",
       "    }\n",
       "</style>\n",
       "<table border=\"1\" class=\"dataframe\">\n",
       "  <thead>\n",
       "    <tr style=\"text-align: right;\">\n",
       "      <th></th>\n",
       "      <th>filename</th>\n",
       "      <th>words</th>\n",
       "      <th>preds</th>\n",
       "    </tr>\n",
       "  </thead>\n",
       "  <tbody>\n",
       "    <tr>\n",
       "      <th>2392</th>\n",
       "      <td>image_545952.jpg</td>\n",
       "      <td>4350</td>\n",
       "      <td>4350</td>\n",
       "    </tr>\n",
       "    <tr>\n",
       "      <th>8736</th>\n",
       "      <td>image_38991.jpg</td>\n",
       "      <td>69999</td>\n",
       "      <td>69999</td>\n",
       "    </tr>\n",
       "    <tr>\n",
       "      <th>3142</th>\n",
       "      <td>18999_image_91796.jpg</td>\n",
       "      <td>18999</td>\n",
       "      <td>18999</td>\n",
       "    </tr>\n",
       "    <tr>\n",
       "      <th>15447</th>\n",
       "      <td>399_image_96637.jpg</td>\n",
       "      <td>399</td>\n",
       "      <td>399</td>\n",
       "    </tr>\n",
       "    <tr>\n",
       "      <th>7495</th>\n",
       "      <td>image_665045.jpg</td>\n",
       "      <td>14499</td>\n",
       "      <td>14499</td>\n",
       "    </tr>\n",
       "  </tbody>\n",
       "</table>\n",
       "</div>"
      ],
      "text/plain": [
       "                    filename  words  preds\n",
       "2392        image_545952.jpg   4350   4350\n",
       "8736         image_38991.jpg  69999  69999\n",
       "3142   18999_image_91796.jpg  18999  18999\n",
       "15447    399_image_96637.jpg    399    399\n",
       "7495        image_665045.jpg  14499  14499"
      ]
     },
     "execution_count": 6,
     "metadata": {},
     "output_type": "execute_result"
    }
   ],
   "source": [
    "df = pd.read_csv(artifact)\n",
    "df.sample(n=5)"
   ]
  },
  {
   "cell_type": "code",
   "execution_count": 8,
   "id": "586ace62",
   "metadata": {},
   "outputs": [],
   "source": [
    "failed_photo = df[df[\"words\"] != df[\"preds\"]]\n",
    "truth_photo = df[df[\"words\"] == df[\"preds\"]]"
   ]
  },
  {
   "cell_type": "code",
   "execution_count": 12,
   "id": "8e52b551",
   "metadata": {},
   "outputs": [],
   "source": [
    "from pathlib import Path\n",
    "import shutil\n",
    "source = Path(\"../data/val/images\")\n",
    "target = Path(\"./results/test_cyrillic_g2_8000_Adadelta_with_GradScaler_failed_photo\")\n",
    "target.mkdir(exist_ok=True,parents=True)\n",
    "for _,row in failed_photo.iterrows():\n",
    "    shutil.copy(source/row[\"filename\"],target/row[\"filename\"])"
   ]
  }
 ],
 "metadata": {
  "kernelspec": {
   "display_name": ".venv",
   "language": "python",
   "name": "python3"
  },
  "language_info": {
   "codemirror_mode": {
    "name": "ipython",
    "version": 3
   },
   "file_extension": ".py",
   "mimetype": "text/x-python",
   "name": "python",
   "nbconvert_exporter": "python",
   "pygments_lexer": "ipython3",
   "version": "3.8.20"
  }
 },
 "nbformat": 4,
 "nbformat_minor": 5
}
