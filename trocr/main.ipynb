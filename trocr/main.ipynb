{
 "cells": [
  {
   "cell_type": "code",
   "execution_count": 1,
   "id": "883bf496",
   "metadata": {},
   "outputs": [
    {
     "name": "stderr",
     "output_type": "stream",
     "text": [
      "/home/research/NapoleonPractice/.venv/lib/python3.8/site-packages/tqdm/auto.py:21: TqdmWarning: IProgress not found. Please update jupyter and ipywidgets. See https://ipywidgets.readthedocs.io/en/stable/user_install.html\n",
      "  from .autonotebook import tqdm as notebook_tqdm\n"
     ]
    }
   ],
   "source": [
    "import torch\n",
    "import pandas as pd\n",
    "from torch.utils.data import Dataset,DataLoader\n",
    "from pathlib import Path\n",
    "from PIL import Image\n",
    "from transformers import TrOCRProcessor"
   ]
  },
  {
   "cell_type": "code",
   "execution_count": 14,
   "id": "4d4d62f5",
   "metadata": {},
   "outputs": [],
   "source": [
    "from typing import Dict\n",
    "\n",
    "\n",
    "class PriceTagDataset(Dataset):\n",
    "    def __init__(\n",
    "        self,\n",
    "        dataset_root_dir: Path,\n",
    "        path_for_metadata_file: Path,\n",
    "        processor: TrOCRProcessor,\n",
    "    ) -> None:\n",
    "        assert dataset_root_dir.exists(), f\"{dataset_root_dir} does not exists\"\n",
    "        assert path_for_metadata_file.exists(), f\"{path_for_metadata_file} does not exists\"\n",
    "\n",
    "        self.__dataset_root_dir = dataset_root_dir\n",
    "        self.__metadata = path_for_metadata_file\n",
    "        self.__df = self.__read_txt_metadata()\n",
    "        self.__max_target_length = self.__df[\"text\"].str.len().max()\n",
    "        self.__processor = processor\n",
    "\n",
    "    def __read_txt_metadata(self) -> pd.DataFrame:\n",
    "        df = pd.read_table(self.__metadata, encoding=\"utf8\", header=None, sep=\" \")\n",
    "        df.columns = [\"file_name\", \"text\"]\n",
    "        df[\"text\"] = df[\"text\"].astype(str)\n",
    "        return df\n",
    "\n",
    "    def __len__(self) -> int:\n",
    "        return self.__df.shape[0]\n",
    "\n",
    "    def __getitem__(self, idx: int)->Dict[str,torch.Tensor]:\n",
    "        file_name = self.__df[\"file_name\"][idx]\n",
    "        text = self.__df[\"text\"][idx]\n",
    "        image = Image.open(self.__dataset_root_dir / file_name).convert(\"RGB\")\n",
    "        pixel_values = self.__processor(image, return_tensors=\"pt\").pixel_values\n",
    "        labels = self.__processor.tokenizer(\n",
    "            text, padding=\"max_length\", max_length=self.__max_target_length\n",
    "        ).input_ids\n",
    "        labels = [\n",
    "            label if label != self.__processor.tokenizer.pad_token_id else -100\n",
    "            for label in labels\n",
    "        ]\n",
    "\n",
    "        return  pixel_values.squeeze(),torch.tensor(labels)"
   ]
  },
  {
   "cell_type": "code",
   "execution_count": 15,
   "id": "5ea3a563",
   "metadata": {},
   "outputs": [
    {
     "name": "stderr",
     "output_type": "stream",
     "text": [
      "Config of the encoder: <class 'transformers.models.vit.modeling_vit.ViTModel'> is overwritten by shared encoder config: ViTConfig {\n",
      "  \"attention_probs_dropout_prob\": 0.0,\n",
      "  \"encoder_stride\": 16,\n",
      "  \"hidden_act\": \"gelu\",\n",
      "  \"hidden_dropout_prob\": 0.0,\n",
      "  \"hidden_size\": 1024,\n",
      "  \"image_size\": 384,\n",
      "  \"initializer_range\": 0.02,\n",
      "  \"intermediate_size\": 4096,\n",
      "  \"layer_norm_eps\": 1e-12,\n",
      "  \"model_type\": \"vit\",\n",
      "  \"num_attention_heads\": 16,\n",
      "  \"num_channels\": 3,\n",
      "  \"num_hidden_layers\": 24,\n",
      "  \"patch_size\": 16,\n",
      "  \"qkv_bias\": false,\n",
      "  \"torch_dtype\": \"float32\",\n",
      "  \"transformers_version\": \"4.46.3\"\n",
      "}\n",
      "\n",
      "Config of the decoder: <class 'transformers.models.trocr.modeling_trocr.TrOCRForCausalLM'> is overwritten by shared decoder config: TrOCRConfig {\n",
      "  \"activation_dropout\": 0.0,\n",
      "  \"activation_function\": \"relu\",\n",
      "  \"add_cross_attention\": true,\n",
      "  \"attention_dropout\": 0.0,\n",
      "  \"bos_token_id\": 0,\n",
      "  \"classifier_dropout\": 0.0,\n",
      "  \"cross_attention_hidden_size\": 1024,\n",
      "  \"d_model\": 1024,\n",
      "  \"decoder_attention_heads\": 16,\n",
      "  \"decoder_ffn_dim\": 4096,\n",
      "  \"decoder_layerdrop\": 0.0,\n",
      "  \"decoder_layers\": 12,\n",
      "  \"decoder_start_token_id\": 2,\n",
      "  \"dropout\": 0.1,\n",
      "  \"eos_token_id\": 2,\n",
      "  \"init_std\": 0.02,\n",
      "  \"is_decoder\": true,\n",
      "  \"layernorm_embedding\": false,\n",
      "  \"max_position_embeddings\": 1024,\n",
      "  \"model_type\": \"trocr\",\n",
      "  \"pad_token_id\": 1,\n",
      "  \"scale_embedding\": true,\n",
      "  \"tie_word_embeddings\": false,\n",
      "  \"torch_dtype\": \"float32\",\n",
      "  \"transformers_version\": \"4.46.3\",\n",
      "  \"use_cache\": false,\n",
      "  \"use_learned_position_embeddings\": false,\n",
      "  \"vocab_size\": 50265\n",
      "}\n",
      "\n"
     ]
    }
   ],
   "source": [
    "from model import TrOCRModel\n",
    "from config import TransfomerOCRConfig\n",
    "from pathlib import Path\n",
    "yaml_config = TransfomerOCRConfig(Path(\"/home/research/NapoleonPractice/trocr/configs/trocr_printed.yaml\"))\n",
    "model = TrOCRModel(yaml_config)\n",
    "model.model.config.decoder_start_token_id = model.processor.tokenizer.cls_token_id\n",
    "model.model.config.pad_token_id = model.processor.tokenizer.pad_token_id\n",
    "# make sure vocab size is set correctly\n",
    "model.model.config.vocab_size = model.model.config.decoder.vocab_size\n",
    "\n",
    "# set beam search parameters\n",
    "model.model.config.eos_token_id = model.processor.tokenizer.sep_token_id\n",
    "model.model.config.max_length = 64\n",
    "model.model.config.early_stopping = True\n",
    "model.model.config.no_repeat_ngram_size = 3\n",
    "model.model.config.length_penalty = 2.0\n",
    "model.model.config.num_beams = 4\n",
    "dataset = PriceTagDataset(Path(\"/home/research/NapoleonPractice/data/train_limited_50\"),\n",
    "                          Path(\"/home/research/NapoleonPractice/data/train_limited_50/annotations_train_limited_50.txt\"),\n",
    "                          model.processor\n",
    "                          )\n",
    "dataloader = DataLoader(dataset=dataset,batch_size=2,shuffle=True)"
   ]
  },
  {
   "cell_type": "code",
   "execution_count": 18,
   "id": "e5631b1e",
   "metadata": {},
   "outputs": [],
   "source": [
    "imgs,labels = next(iter(dataloader))"
   ]
  },
  {
   "cell_type": "code",
   "execution_count": 19,
   "id": "fddbc3fe",
   "metadata": {},
   "outputs": [],
   "source": [
    "model.model.to(\"cpu\")\n",
    "res = model.model(imgs,labels=labels)"
   ]
  },
  {
   "cell_type": "code",
   "execution_count": 20,
   "id": "abf0896b",
   "metadata": {},
   "outputs": [
    {
     "name": "stderr",
     "output_type": "stream",
     "text": [
      "/home/research/NapoleonPractice/.venv/lib/python3.8/site-packages/transformers/generation/utils.py:1493: UserWarning: You have modified the pretrained model configuration to control generation. This is a deprecated strategy to control generation and will be removed in v5. Please use and modify the model generation configuration (see https://huggingface.co/docs/transformers/generation_strategies#default-text-generation-configuration )\n",
      "  warnings.warn(\n"
     ]
    },
    {
     "data": {
      "text/plain": [
       "[' . .', '29499']"
      ]
     },
     "execution_count": 20,
     "metadata": {},
     "output_type": "execute_result"
    }
   ],
   "source": [
    "preds = model.model.generate(imgs)\n",
    "predictions = model.processor.batch_decode(preds, skip_special_tokens=True)\n",
    "predictions"
   ]
  },
  {
   "cell_type": "code",
   "execution_count": 24,
   "id": "3a3a8ada",
   "metadata": {},
   "outputs": [
    {
     "data": {
      "text/plain": [
       "['13129', '29499']"
      ]
     },
     "execution_count": 24,
     "metadata": {},
     "output_type": "execute_result"
    }
   ],
   "source": [
    "labels[labels == -100] = model.processor.tokenizer.pad_token_id\n",
    "model.processor.batch_decode(labels, skip_special_tokens=True)\n"
   ]
  },
  {
   "cell_type": "code",
   "execution_count": 30,
   "id": "d970a98d",
   "metadata": {},
   "outputs": [
    {
     "data": {
      "text/plain": [
       "1"
      ]
     },
     "execution_count": 30,
     "metadata": {},
     "output_type": "execute_result"
    }
   ],
   "source": [
    "import numpy as np\n",
    "\n",
    "np.sum(np.array(predictions)==np.array(model.processor.batch_decode(labels, skip_special_tokens=True)))"
   ]
  }
 ],
 "metadata": {
  "kernelspec": {
   "display_name": ".venv",
   "language": "python",
   "name": "python3"
  },
  "language_info": {
   "codemirror_mode": {
    "name": "ipython",
    "version": 3
   },
   "file_extension": ".py",
   "mimetype": "text/x-python",
   "name": "python",
   "nbconvert_exporter": "python",
   "pygments_lexer": "ipython3",
   "version": "3.8.20"
  }
 },
 "nbformat": 4,
 "nbformat_minor": 5
}
